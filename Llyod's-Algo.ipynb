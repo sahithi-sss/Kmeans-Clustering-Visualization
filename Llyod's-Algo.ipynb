{
 "cells": [
  {
   "cell_type": "code",
   "execution_count": null,
   "metadata": {},
   "outputs": [],
   "source": [
    "import numpy as np\n",
    "import matplotlib.pyplot as plt\n",
    "from sklearn.datasets import make_blobs\n",
    "from matplotlib.animation import FuncAnimation"
   ]
  },
  {
   "cell_type": "code",
   "execution_count": null,
   "metadata": {},
   "outputs": [],
   "source": [
    "# Generate random data points\n",
    "n_samples = 500  # Total points\n",
    "n_features = 2   # Points in 2D space\n",
    "n_clusters = 4  # Number of clusters to find\n",
    "# Number of clusters (K)\n",
    "K = n_clusters\n",
    "\n",
    "data, _ = make_blobs(n_samples=n_samples, centers=n_clusters, n_features=n_features, random_state=42)"
   ]
  },
  {
   "cell_type": "code",
   "execution_count": null,
   "metadata": {},
   "outputs": [],
   "source": [
    "def plot_clusters(data, centroids, labels, iteration):\n",
    "    plt.scatter(data[:, 0], data[:, 1], c=labels, marker='o')\n",
    "    plt.scatter(centroids[:, 0], centroids[:, 1], color='red', marker='x')\n",
    "    plt.title(f\"Iteration {iteration}\")\n",
    "    plt.show()"
   ]
  },
  {
   "cell_type": "code",
   "execution_count": null,
   "metadata": {},
   "outputs": [],
   "source": [
    "def kmeans(data, K, max_iters=10):\n",
    "    # Initialize centroids\n",
    "    centroids = data[np.random.choice(data.shape[0], K, replace=False)]\n",
    "    for i in range(max_iters):\n",
    "        # Step 1: Assign labels to each point based on centroids\n",
    "        labels = np.array([np.argmin([np.linalg.norm(point - centroid) for centroid in centroids]) for point in data])\n",
    "\n",
    "        # Plot the current state\n",
    "        plot_clusters(data, centroids, labels, i+1)\n",
    "\n",
    "        # Step 2: Calculate new centroids from the labels\n",
    "        new_centroids = np.array([data[labels == k].mean(axis=0) for k in range(K)])\n",
    "\n",
    "        # Stop if centroids do not change\n",
    "        if np.all(centroids == new_centroids):\n",
    "            break\n",
    "        centroids = new_centroids\n",
    "\n",
    "    return centroids, labels"
   ]
  },
  {
   "cell_type": "code",
   "execution_count": null,
   "metadata": {},
   "outputs": [],
   "source": [
    "# Function to animate the K-means process\n",
    "def animate_kmeans(data, centroids, K, max_iters=10):\n",
    "    # Initialize centroids and set up colors for clusters\n",
    "    colors = ['b', 'g', 'r', 'c', 'm', 'y', 'k']\n",
    "    fig, ax = plt.subplots()\n",
    "\n",
    "    # Initialize centroids randomly\n",
    "    initial_centroids = data[np.random.choice(data.shape[0], K, replace=False)]\n",
    "\n",
    "    def update(frame):\n",
    "        ax.clear()  # Clear the plot for each frame\n",
    "        labels = np.array([np.argmin([np.linalg.norm(point - centroid) for centroid in centroids]) for point in data])\n",
    "        for k in range(K):\n",
    "            # Plot points for each cluster\n",
    "            cluster_points = data[labels == k]\n",
    "            ax.scatter(cluster_points[:, 0], cluster_points[:, 1], s=50, color=colors[k % len(colors)])\n",
    "            ax.scatter(centroids[k, 0], centroids[k, 1], color='black', marker='x')\n",
    "\n",
    "        # Update centroids for the next frame\n",
    "        new_centroids = np.array([data[labels == k].mean(axis=0) for k in range(K)])\n",
    "        np.copyto(centroids, new_centroids)\n",
    "        return ax\n",
    "\n",
    "    # Assign the animation to a variable to keep it in memory\n",
    "    anim = FuncAnimation(fig, update, frames=max_iters, repeat=False)\n",
    "    plt.show()\n",
    "    return anim  # Return the animation object if further usage is needed"
   ]
  },
  {
   "cell_type": "code",
   "execution_count": null,
   "metadata": {},
   "outputs": [],
   "source": [
    "# Running the animation\n",
    "# Initialize centroids randomly for animation\n",
    "centroids = data[np.random.choice(data.shape[0], K, replace=False)]\n",
    "animate_kmeans(data, centroids, K, max_iters=10)\n"
   ]
  },
  {
   "cell_type": "code",
   "execution_count": null,
   "metadata": {},
   "outputs": [],
   "source": []
  }
 ],
 "metadata": {
  "kernelspec": {
   "display_name": "Python 3",
   "language": "python",
   "name": "python3"
  },
  "language_info": {
   "codemirror_mode": {
    "name": "ipython",
    "version": 3
   },
   "file_extension": ".py",
   "mimetype": "text/x-python",
   "name": "python",
   "nbconvert_exporter": "python",
   "pygments_lexer": "ipython3",
   "version": "3.12.4"
  }
 },
 "nbformat": 4,
 "nbformat_minor": 2
}
